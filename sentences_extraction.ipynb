{
 "cells": [
  {
   "cell_type": "markdown",
   "metadata": {},
   "source": [
    "This is to show the workflow of how the ethical sentences are extracted, which mainly contains 4 phases:\n",
    "1) Load ethical text files as a whole\n",
    "2) Tokenize 1) and Extract most common words\n",
    "3) Manually review the common words to filter out ethics-irrelevant ones\n",
    "4) Get synonyms of the word list to extend it"
   ]
  },
  {
   "cell_type": "code",
   "execution_count": null,
   "metadata": {},
   "outputs": [],
   "source": [
    "import os\n",
    "import collections\n",
    "import nltk\n",
    "import re\n",
    "import itertools\n",
    "import json"
   ]
  },
  {
   "cell_type": "markdown",
   "metadata": {},
   "source": [
    "Load ethical text files as a whole\n",
    "The ethical articles are stored in the [path], which are all .txt files"
   ]
  },
  {
   "cell_type": "code",
   "execution_count": null,
   "metadata": {},
   "outputs": [],
   "source": [
    "path = '/Ethics and DH/files/'\n",
    "file_string = ''\n",
    "for filename in os.listdir(path):\n",
    "    with open(path+filename, encoding=\"utf-8\") as file:\n",
    "        file_string += file.read()\n",
    "        \n",
    "file_string = file_string.lower()"
   ]
  },
  {
   "cell_type": "code",
   "execution_count": null,
   "metadata": {},
   "outputs": [],
   "source": [
    "Funtion to get the most common words (based on Python Collections)"
   ]
  },
  {
   "cell_type": "code",
   "execution_count": null,
   "metadata": {},
   "outputs": [],
   "source": [
    "def most_common(counter, quantity=None, minimum=None):\n",
    "    g = None\n",
    "    if (quantity is not None) and (minimum is not None):\n",
    "        g=(e for e in counter.most_common(quantity) if e[1]>=minimum)\n",
    "    elif (quantity is None) and (minimum is not None):\n",
    "        g=(e for e in counter.most_common() if e[1]>=minimum)\n",
    "    elif (quantity is not None) and (minimum is None):\n",
    "        g=counter.most_common(quantity)\n",
    "    else:\n",
    "        g=counter.most_common()\n",
    "    return list(g)"
   ]
  },
  {
   "cell_type": "markdown",
   "metadata": {},
   "source": [
    "Tokenize words using Regular Expression\n",
    "Use NLDK Stopword List to filter out irrelevant words "
   ]
  },
  {
   "cell_type": "code",
   "execution_count": null,
   "metadata": {},
   "outputs": [],
   "source": [
    "word_tokens = re.findall(r'(?!\\d)\\w+', file_string)\n",
    "stop_words = set(nltk.corpus.stopwords.words('english'))\n",
    "filtered_words = [w for w in word_tokens if (not w in stop_words) and len(w) > 1] \n",
    "counter = collections.Counter(filtered_words)\n",
    "common_words = [w[0] for w in most_common(counter, 300)]"
   ]
  },
  {
   "cell_type": "markdown",
   "metadata": {},
   "source": [
    "Function to check if a word is in a text"
   ]
  },
  {
   "cell_type": "code",
   "execution_count": null,
   "metadata": {},
   "outputs": [],
   "source": [
    "def in_sentence(word, text):\n",
    "    tokens = nltk.word_tokenize(text.lower())\n",
    "    word = word.lower()\n",
    "    if word in tokens:\n",
    "        return True\n",
    "    else:\n",
    "        return False"
   ]
  },
  {
   "cell_type": "markdown",
   "metadata": {},
   "source": [
    "Get synonyms of each ethical word in the wordlist\n",
    "The Web API is provided by www.thesaurus.com"
   ]
  },
  {
   "cell_type": "code",
   "execution_count": null,
   "metadata": {},
   "outputs": [],
   "source": [
    "import urllib.request\n",
    "from bs4 import BeautifulSoup\n",
    "from urllib.error import URLError, HTTPError\n",
    "\n",
    "common_words_extended = []\n",
    "\n",
    "for w in common_words:\n",
    "    common_words_extended.append(w)\n",
    "    url = 'https://www.thesaurus.com/browse/' + w\n",
    "    req = urllib.request.Request(url, headers={'User-Agent': 'Mozilla/5.0'})\n",
    "    try:\n",
    "        resource = urllib.request.urlopen(req)\n",
    "    except HTTPError as e:\n",
    "        continue\n",
    "    uf = resource.read().decode(resource.headers.get_content_charset())\n",
    "    soup = BeautifulSoup(uf,\"html.parser\")\n",
    "    synonyms = [a.find(text=True) for a in soup.select(\"a.css-3kshty.etbu2a31\")]\n",
    "    common_words_extended.extend(synonyms)\n",
    "\n",
    "common_words_extended = list(set(common_words_extended))\n",
    "\n",
    "with open(\"/Ethics and DH/filtered_wordlist_extended.txt\", \"w\", encoding=\"utf-8\") as text_file:\n",
    "    text_file.write(str(common_words_extended))"
   ]
  },
  {
   "cell_type": "markdown",
   "metadata": {},
   "source": [
    "We tend to save the wordlist as a JSON text file in each phase as a backup"
   ]
  },
  {
   "cell_type": "code",
   "execution_count": null,
   "metadata": {},
   "outputs": [],
   "source": [
    "with open(\"/Ethics and DH/filtered_wordlist_extended.txt\",encoding=\"utf-8\") as file:\n",
    "    common_words = json.loads(file.read())"
   ]
  },
  {
   "cell_type": "markdown",
   "metadata": {},
   "source": [
    "Function to extract the sentence which contains at least [weight] number of the ethical words"
   ]
  },
  {
   "cell_type": "code",
   "execution_count": null,
   "metadata": {},
   "outputs": [],
   "source": [
    "weight = 2\n",
    "paragraphs = [p for p in file_string.split('\\n') if p]\n",
    "sentence_tokens = []\n",
    "for paragraph in paragraphs:\n",
    "    sentences = nltk.sent_tokenize(paragraph)\n",
    "    sentence_tokens += sentences\n",
    "output_sentences=[]\n",
    "for sentence in sentence_tokens:\n",
    "    sentence = sentence.replace('\\n','')\n",
    "    count=0\n",
    "    for word in common_words:\n",
    "        if in_sentence(word, sentence):\n",
    "            if count < weight:\n",
    "                count+=1\n",
    "            else:\n",
    "                output_sentences.append(sentence)\n",
    "                break"
   ]
  },
  {
   "cell_type": "markdown",
   "metadata": {},
   "source": [
    "Save the final ethical sentences as a JSON file as the trainning resource"
   ]
  },
  {
   "cell_type": "code",
   "execution_count": null,
   "metadata": {},
   "outputs": [],
   "source": [
    "output_sentences = list(set(output_sentences))\n",
    "output = \"\"\n",
    "for s in output_sentences:\n",
    "    output+=s.strip() + \"\\n\"\n",
    "\n",
    "with open(\"/Ethics and DH/sentences_new_extended.txt\", \"w\", encoding=\"utf-8\") as text_file:\n",
    "    text_file.write(output)"
   ]
  }
 ],
 "metadata": {
  "kernelspec": {
   "display_name": "Python 3",
   "language": "python",
   "name": "python3"
  },
  "language_info": {
   "codemirror_mode": {
    "name": "ipython",
    "version": 3
   },
   "file_extension": ".py",
   "mimetype": "text/x-python",
   "name": "python",
   "nbconvert_exporter": "python",
   "pygments_lexer": "ipython3",
   "version": "3.5.0"
  }
 },
 "nbformat": 4,
 "nbformat_minor": 2
}
